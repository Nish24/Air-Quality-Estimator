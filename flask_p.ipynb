{
 "cells": [
  {
   "cell_type": "code",
   "execution_count": null,
   "id": "638e90d8",
   "metadata": {},
   "outputs": [],
   "source": [
    "!pip install flask\n",
    "!pip install flask_cors"
   ]
  },
  {
   "cell_type": "code",
   "execution_count": null,
   "id": "c54d7804",
   "metadata": {
    "scrolled": true
   },
   "outputs": [
    {
     "name": "stdout",
     "output_type": "stream",
     "text": [
      " * Serving Flask app \"__main__\" (lazy loading)\n",
      " * Environment: production\n",
      "\u001b[31m   WARNING: This is a development server. Do not use it in a production deployment.\u001b[0m\n",
      "\u001b[2m   Use a production WSGI server instead.\u001b[0m\n",
      " * Debug mode: on\n"
     ]
    },
    {
     "name": "stderr",
     "output_type": "stream",
     "text": [
      " * Running on http://127.0.0.1:5001/ (Press CTRL+C to quit)\n"
     ]
    },
    {
     "name": "stdout",
     "output_type": "stream",
     "text": [
      "{'PM25': '80.7', 'PM10': '30.2', 'NO': '1.42', 'NO2': '21.90', 'NOx': '20.65', 'NH3': '2.32', 'CO': '1.42', 'SO2': '32.26', 'O3': '46.71', 'Benzene': '0.00', 'Toluene': '0.0', 'Xylene': '2.07', 'city': 'Ahmedabad'}\n",
      "   PM25  PM10    NO    NO2    NOx   NH3    CO    SO2     O3 Benzene Toluene  \\\n",
      "0  80.7  30.2  1.42  21.90  20.65  2.32  1.42  32.26  46.71    0.00     0.0   \n",
      "\n",
      "  Xylene       city  \n",
      "0   2.07  Ahmedabad  \n"
     ]
    },
    {
     "name": "stderr",
     "output_type": "stream",
     "text": [
      "127.0.0.1 - - [03/Nov/2023 16:58:04] \"POST /predict HTTP/1.1\" 200 -\n"
     ]
    },
    {
     "name": "stdout",
     "output_type": "stream",
     "text": [
      "Aqi value is: 126.94933134903057\n"
     ]
    },
    {
     "name": "stderr",
     "output_type": "stream",
     "text": [
      "127.0.0.1 - - [03/Nov/2023 16:59:03] \"OPTIONS /predict HTTP/1.1\" 200 -\n",
      "127.0.0.1 - - [03/Nov/2023 16:59:03] \"POST /predict HTTP/1.1\" 200 -\n"
     ]
    },
    {
     "name": "stdout",
     "output_type": "stream",
     "text": [
      "{'city': 'Bengaluru', 'PM25': '50', 'PM10': '20', 'NO': '30', 'NO2': '80', 'NOx': '100', 'NH3': '80', 'CO': '10', 'SO2': '10', 'O3': '30', 'Benzene': '2', 'Toluene': '3', 'Xylene': '10'}\n",
      "        city PM25 PM10  NO NO2  NOx NH3  CO SO2  O3 Benzene Toluene Xylene\n",
      "0  Bengaluru   50   20  30  80  100  80  10  10  30       2       3     10\n",
      "Aqi value is: 179.21564361562434\n"
     ]
    }
   ],
   "source": [
    "from flask import Flask, jsonify, request\n",
    "from flask_cors import CORS, cross_origin\n",
    "import SmartModel\n",
    "import pandas as pd\n",
    "app = Flask (__name__)\n",
    "CORS(app)\n",
    "app.config['CORS_HEADERS'] = 'application/json'\n",
    "\n",
    "@app.route(\"/predict\", methods=[\"POST\"])\n",
    "@cross_origin (supports_credentials=True)\n",
    "def predictoap():\n",
    "    data = request.get_json()\n",
    "    print(data)\n",
    "    cust_df = pd.DataFrame([data])\n",
    "    print(cust_df)\n",
    "    return jsonify (SmartModel.predict(cust_df))\n",
    "\n",
    "if __name__ == '__main__':\n",
    "    app.run(debug=True, use_reloader=False, port=5001)"
   ]
  }
 ],
 "metadata": {
  "kernelspec": {
   "display_name": "Python 3 (ipykernel)",
   "language": "python",
   "name": "python3"
  },
  "language_info": {
   "codemirror_mode": {
    "name": "ipython",
    "version": 3
   },
   "file_extension": ".py",
   "mimetype": "text/x-python",
   "name": "python",
   "nbconvert_exporter": "python",
   "pygments_lexer": "ipython3",
   "version": "3.9.13"
  }
 },
 "nbformat": 4,
 "nbformat_minor": 5
}
